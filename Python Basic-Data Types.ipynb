{
 "cells": [
  {
   "cell_type": "markdown",
   "id": "ce331a1e",
   "metadata": {},
   "source": [
    "# Python Basic : Data Types and Operators \n",
    "\n",
    "\n",
    "**Everything is an Object**\n",
    "\n",
    "Python treats every value or data item whether numeric,\n",
    "string, or other type (discussed in the next section) as\n",
    "an object in the sense that it can be assigned to some\n",
    "variable or can be passed to a function as an argument.\n",
    "Every object in Python is assigned a unique identity\n",
    "(ID) which remains the same for the lifetime of that object.\n",
    "This ID is akin to the memory address of the object. The\n",
    "function id() returns the identity of an object\n"
   ]
  },
  {
   "cell_type": "code",
   "execution_count": 90,
   "id": "37097d71",
   "metadata": {},
   "outputs": [],
   "source": [
    "#initailization of Notebook \n",
    "lb=80*'-'"
   ]
  },
  {
   "cell_type": "code",
   "execution_count": 91,
   "id": "d62d8a0c",
   "metadata": {
    "scrolled": true
   },
   "outputs": [
    {
     "name": "stdout",
     "output_type": "stream",
     "text": [
      "num1 id= 140615828511152  num2 id= 140615828511280\n"
     ]
    }
   ],
   "source": [
    "num1=5\n",
    "num2=9\n",
    "\n",
    "print(\"num1 id=\",id(num1),\" num2 id=\",id(num2))"
   ]
  },
  {
   "cell_type": "markdown",
   "id": "c290c0d0",
   "metadata": {},
   "source": [
    "### DATATYPE\n",
    "\n",
    "**Number** <br>\n",
    "\n",
    "> 1.Integer (int)  Ex - 1,2,-3 <br>\n",
    "        >> a) Boolean (bool) Ex- True 1, False 0   <br>\n",
    "\n",
    "> 2.Floating Point (float) Ex- -2.04 <br>\n",
    "\n",
    "> 3. Complex (complex)  Ex- 3 + 4j <br>\n",
    "   \n",
    "**Sequence** <br> \n",
    "\n",
    "> 1.Strings <br>\n",
    ">>String is a group of characters. These characters may be\n",
    ">>alphabets, digits or special characters including spaces.\n",
    ">>String values are enclosed either in single quotation marks (e.g., ‘Hello’)\n",
    "\n",
    "> 2.Lists - <br> \n",
    ">>List is a sequence of items separated by commas and\n",
    ">>the items are enclosed in square brackets [ ].\n",
    ">> list1 = [5, 3.4, \"New Delhi\", \"20C\", 45]\n",
    "\n",
    "> 3.Tuples -tuple1 = (10, 20, \"Apple\", 3.4, 'a')  <br> \n",
    ">>Tuple is a sequence of items separated by commas and\n",
    ">>items are enclosed in parenthesis ( ). This is unlike list,\n",
    ">>where values are enclosed in brackets [ ]. Once created,\n",
    ">>we cannot change the tuple. <br>\n",
    "\n",
    "**Sets** \n",
    ">>Set is an unordered collection of items separated by commas\n",
    ">>and the items are enclosed in curly brackets { }. A set is\n",
    ">>similar to list, except that it cannot have duplicate entries.\n",
    ">>Once created, elements of a set cannot be changed.\n",
    ">>set1 = {10,20,3.14,\"New Delhi\"} <br>\n",
    "\n",
    "**None**  myVar = None <br>\n",
    ">>None is a special data type with a single value. It is\n",
    ">>used to signify the absence of value in a situation. None\n",
    ">>supports no special operations, and it is neither False\n",
    ">>nor 0 (zero).<br>\n",
    "\n",
    "**Mappings** <br>\n",
    "> 1.Dictionaries <br>\n",
    ">>Dictionary in Python holds data items in key-value pairs.\n",
    ">>Items in a dictionary are enclosed in curly brackets { }.\n",
    ">>Dictionaries permit faster access to data. Every key is\n",
    ">>separated from its value using a colon (:) sign. The key\n",
    ">>: value pairs of a dictionary can be accessed using the\n",
    ">>key. The keys are usually strings and their values can\n",
    ">>be any data type. In order to access any value in the\n",
    ">>dictionary, we have to specify its key in square brackets\n",
    ">>[ ].<br>\n",
    "Example 5.8<br>\n",
    "#create a dictionary<br>\n",
    " dict1 = {'Fruit':'Apple','Climate':'Cold', 'Price(kg)':120}<br>\n",
    "\n",
    "**Mutable and Immutable Data Types** <br>\n",
    "Sometimes we may require to change or update the values of certain variables used in a program. However, for certain data types, Python does not allow us to change the values once a variable of that type has been created and assigned values. <br>\n",
    "\n",
    ">>Variables whose values can be changed after they are created and assigned are called mutable. <br>\n",
    ">>Variables whose values cannot be changed after they are created and assigned are called immutable. <br>\n",
    ">>>When an attempt is made to update the value of an immutable variable, the old variable is destroyed and a new variable is created by the same name in memory. <br>\n",
    "\n",
    "Python data types can be classified into mutable and immutable :- <br>\n",
    ">> **Immutable** <br>\n",
    ">>> 1. Int<br>\n",
    ">>> 2. Float<br>\n",
    ">>> 3. Bool<br>\n",
    ">>> 4. Complex<br>\n",
    ">>> 5. Strings<br>\n",
    ">>> 6. Tuples() - Never changed constant list<br>\n",
    ">>> 7. Sets{}- Uniqueness of elements and to avoid duplicacy it is preferable to use sets <br>\n",
    "\n",
    ">> **Mutable** <br>\n",
    ">>> 1. Lists[ ] Frequent changes are needed <br>\n",
    ">>> 2. Dictionary{1:2} <br>\n"
   ]
  },
  {
   "cell_type": "code",
   "execution_count": 92,
   "id": "9849c128",
   "metadata": {},
   "outputs": [
    {
     "name": "stdout",
     "output_type": "stream",
     "text": [
      "a is of type:  <class 'int'>\n"
     ]
    }
   ],
   "source": [
    "a=1\n",
    "print(\"a is of type: \", type(a))"
   ]
  },
  {
   "cell_type": "code",
   "execution_count": 93,
   "id": "93f1946e",
   "metadata": {},
   "outputs": [
    {
     "name": "stdout",
     "output_type": "stream",
     "text": [
      "f is of type <class 'float'>\n"
     ]
    }
   ],
   "source": [
    "f=10.34\n",
    "print(\"f is of type\",type(f))"
   ]
  },
  {
   "cell_type": "code",
   "execution_count": 94,
   "id": "14e8f803",
   "metadata": {},
   "outputs": [
    {
     "name": "stdout",
     "output_type": "stream",
     "text": [
      "b is of type <class 'bool'>\n"
     ]
    }
   ],
   "source": [
    "b=True\n",
    "print(\"b is of type\",type(b))"
   ]
  },
  {
   "cell_type": "code",
   "execution_count": 95,
   "id": "90a69c5a",
   "metadata": {},
   "outputs": [
    {
     "name": "stdout",
     "output_type": "stream",
     "text": [
      "c is of type <class 'complex'>\n"
     ]
    }
   ],
   "source": [
    "c=2+1j\n",
    "print(\"c is of type\",type(c)) "
   ]
  },
  {
   "cell_type": "code",
   "execution_count": 96,
   "id": "8d58086b",
   "metadata": {},
   "outputs": [
    {
     "name": "stdout",
     "output_type": "stream",
     "text": [
      "s is of type <class 'str'>\n"
     ]
    }
   ],
   "source": [
    "s=\"cat\"\n",
    "print(\"s is of type\",type(s))"
   ]
  },
  {
   "cell_type": "code",
   "execution_count": 97,
   "id": "02348b8f",
   "metadata": {},
   "outputs": [
    {
     "name": "stdout",
     "output_type": "stream",
     "text": [
      "t is of type <class 'tuple'>\n"
     ]
    }
   ],
   "source": [
    "t=('mon','tue')\n",
    "print(\"t is of type\",type(t))"
   ]
  },
  {
   "cell_type": "code",
   "execution_count": 98,
   "id": "518695ff",
   "metadata": {},
   "outputs": [
    {
     "name": "stdout",
     "output_type": "stream",
     "text": [
      "s1 is of type <class 'set'>\n"
     ]
    }
   ],
   "source": [
    "s1={1,2}\n",
    "print(\"s1 is of type\",type(s1))"
   ]
  },
  {
   "cell_type": "code",
   "execution_count": 99,
   "id": "14a9d1e3",
   "metadata": {},
   "outputs": [
    {
     "name": "stdout",
     "output_type": "stream",
     "text": [
      "l is of type <class 'list'>\n"
     ]
    }
   ],
   "source": [
    "l=[1,2,3]\n",
    "print(\"l is of type\",type(l))"
   ]
  },
  {
   "cell_type": "code",
   "execution_count": 100,
   "id": "be992bd0",
   "metadata": {},
   "outputs": [
    {
     "name": "stdout",
     "output_type": "stream",
     "text": [
      "d is of type <class 'dict'>\n"
     ]
    }
   ],
   "source": [
    "d={'name':'john','surname':'doe'}\n",
    "print(\"d is of type\",type(d))"
   ]
  },
  {
   "cell_type": "markdown",
   "id": "fac047c0",
   "metadata": {},
   "source": [
    "## Arithmetic Operators in Python\n",
    "\n",
    "**Operators :**\n",
    "> 1. Addition +\n",
    "> 2. Subtraction - \n",
    "> 3. Multiplication *\n",
    "> 4. Division /\n",
    "> 5. Modulus %\n",
    "> 6. Floor Division //\n",
    "> 7. Exponent **\n",
    "\n"
   ]
  },
  {
   "cell_type": "code",
   "execution_count": 101,
   "id": "87a9ed31",
   "metadata": {},
   "outputs": [
    {
     "name": "stdout",
     "output_type": "stream",
     "text": [
      "Example of Numeric Arithmetic Operators in Python:-\n",
      "num1+num2= 112\n",
      "num1-num2= 92\n",
      "num1*num2= 1020\n",
      "num1/num2= 10.2\n",
      "num1%num2= 2\n",
      "num1//num2= 10\n",
      "num1**num2= 121899441999475713024\n"
     ]
    }
   ],
   "source": [
    "num1=102\n",
    "num2=10\n",
    "print(\"Example of Numeric Arithmetic Operators in Python:-\")\n",
    "print(\"num1+num2=\",num1+num2)\n",
    "print(\"num1-num2=\",num1-num2)\n",
    "print(\"num1*num2=\",num1*num2)\n",
    "print(\"num1/num2=\",num1/num2)\n",
    "print(\"num1%num2=\",num1%num2)\n",
    "print(\"num1//num2=\",num1//num2)\n",
    "print(\"num1**num2=\",num1**num2)"
   ]
  },
  {
   "cell_type": "markdown",
   "id": "d82ce424",
   "metadata": {},
   "source": [
    "# Assignment Operators\n",
    "\n",
    "**Operator**\n",
    "> 1. Equal (=)\n",
    "> 2. Adding (+=)\n",
    "> 3. Subtracting (-=)\n",
    "> 4. Multiplication (*=)\n",
    "> 5. Division (/=)\n",
    "> 6. Modulus (%=)\n",
    "> 7. Floor Division (//=)\n",
    "> 8. Exponential (**=)\n",
    "\n"
   ]
  },
  {
   "cell_type": "code",
   "execution_count": 102,
   "id": "b83af664",
   "metadata": {},
   "outputs": [
    {
     "name": "stdout",
     "output_type": "stream",
     "text": [
      "Example of Numeric Assignment Operators in Python:-\n",
      "num4=num3 102\n",
      "num4+=num3 204\n",
      "num4-=num3 102\n",
      "num4*=num3 10404\n",
      "num4/=num3 102.0\n",
      "num4%=num3 0.0\n",
      "num4//=num3 0.0\n",
      "num4**=num3 0.0\n"
     ]
    }
   ],
   "source": [
    "num3=102\n",
    "print(\"Example of Numeric Assignment Operators in Python:-\")\n",
    "num4=num3\n",
    "print(\"num4=num3\",num4)\n",
    "num4+=num3\n",
    "print(\"num4+=num3\",num4)\n",
    "num4-=num3\n",
    "print(\"num4-=num3\",num4)\n",
    "num4*=num3\n",
    "print(\"num4*=num3\",num4)\n",
    "num4/=num3\n",
    "print(\"num4/=num3\",num4)\n",
    "num4%=num3\n",
    "print(\"num4%=num3\",num4)\n",
    "num4//=num3\n",
    "print(\"num4//=num3\",num4)\n",
    "num4**=num3\n",
    "print(\"num4**=num3\",num4)"
   ]
  },
  {
   "cell_type": "markdown",
   "id": "b0afef68",
   "metadata": {},
   "source": [
    "# Logical Operators\n",
    "\n",
    "> 1. and  - If both the operands are True, then condition becomes True\n",
    "> 2. or  - If any of the two operands are True, then condition becomes True\n",
    "> 3. not - Used to reverse the logical state of its operand\n",
    "\n",
    "There are three logical operators supported by Python. These operators (and, or, not) are to be written in lower case only. The logical operator evaluates to either True or False based on the logical operands on either side. Every value is logically either True or False. By\n",
    "default, all values are True except None, False, 0(zero), empty collections \"\", (), [], {}, and few other special\n",
    "values."
   ]
  },
  {
   "cell_type": "code",
   "execution_count": 103,
   "id": "7a26a8c3",
   "metadata": {},
   "outputs": [
    {
     "name": "stdout",
     "output_type": "stream",
     "text": [
      "True and True = True\n",
      "True and False = False\n",
      "False and False = False\n",
      "bool(i and j) = True\n",
      "bool(i and k) = False\n"
     ]
    }
   ],
   "source": [
    "#AND test \n",
    "print(\"True and True =\", True and True)\n",
    "print(\"True and False =\", True and False)\n",
    "print(\"False and False =\", False and False)\n",
    "i = 10 \n",
    "j = -30\n",
    "print(\"bool(i and j) =\", bool(i and j))\n",
    "k = 0\n",
    "print(\"bool(i and k) =\", bool(i and k))\n"
   ]
  },
  {
   "cell_type": "code",
   "execution_count": 104,
   "id": "4ff9d90b",
   "metadata": {},
   "outputs": [
    {
     "name": "stdout",
     "output_type": "stream",
     "text": [
      "True or True = True\n",
      "True or False = True\n",
      "False or False = False\n",
      "bool(i or j) = True\n",
      "bool(i or k) = True\n"
     ]
    }
   ],
   "source": [
    "#OR test \n",
    "print(\"True or True =\", True or True)\n",
    "print(\"True or False =\", True or False)\n",
    "print(\"False or False =\", False or False)\n",
    "i = 10 \n",
    "j = -30\n",
    "print(\"bool(i or j) =\", bool(i or j))\n",
    "k = 0\n",
    "print(\"bool(i or k) =\", bool(i or k))\n"
   ]
  },
  {
   "cell_type": "code",
   "execution_count": 105,
   "id": "7cdaf964",
   "metadata": {},
   "outputs": [
    {
     "name": "stdout",
     "output_type": "stream",
     "text": [
      "bool(k) = False\n",
      "not bool(k) = True\n"
     ]
    }
   ],
   "source": [
    "#not\n",
    "k=0\n",
    "print(\"bool(k) =\", bool(k))\n",
    "k= not k\n",
    "print(\"not bool(k) =\", bool(k))"
   ]
  },
  {
   "cell_type": "markdown",
   "id": "b0265ae1",
   "metadata": {},
   "source": [
    "# Identity Operators\n",
    "> 1. is - Evaluates True if the variables on either side of the operator point towards the same memory location and False otherwise. var1 is var2 results to True if id(var1) is equal to id(var2)\n",
    "> 2. is not - Evaluates to False if the variables on either side of the operator point to the same memory location and True otherwise. var1 is not var2 results to True if id(var1) is not equal to id(var2)"
   ]
  },
  {
   "cell_type": "code",
   "execution_count": 106,
   "id": "8ecdb6a6",
   "metadata": {},
   "outputs": [
    {
     "name": "stdout",
     "output_type": "stream",
     "text": [
      "id of num1= 140615828511152\n",
      "id of num2= 140615828511152\n",
      "num1 is num2= True\n",
      "num1 is not num2= False\n"
     ]
    }
   ],
   "source": [
    "num1 = 5 \n",
    "num2 = num1 \n",
    "print(\"id of num1=\", id(num1))\n",
    "print(\"id of num2=\", id(num2))\n",
    "print(\"num1 is num2=\",num1 is num2)\n",
    "print(\"num1 is not num2=\",num1 is not num2)"
   ]
  },
  {
   "cell_type": "markdown",
   "id": "4ca30dcc",
   "metadata": {},
   "source": [
    "# Membership Operators\n",
    "\n",
    "Membership operators are used to check if a value is a member of the given sequence or not.\n",
    "> 1. in \n",
    "> 2. not in "
   ]
  },
  {
   "cell_type": "code",
   "execution_count": 107,
   "id": "e73681d7",
   "metadata": {},
   "outputs": [
    {
     "name": "stdout",
     "output_type": "stream",
     "text": [
      "2 in list 1: True\n",
      "99 in list l: False\n",
      "--------------------------------------------------------------------------------\n",
      "2 not in list 1: False\n",
      "99 not in list l: True\n"
     ]
    }
   ],
   "source": [
    "l = [1,2,3,4,5]\n",
    "print(\"2 in list 1:\", 2 in l)\n",
    "print(\"99 in list l:\" , 99 in l)\n",
    "print(lb)\n",
    "print(\"2 not in list 1:\", 2 not in l)\n",
    "print(\"99 not in list l:\" , 99 not in l)\n"
   ]
  },
  {
   "cell_type": "markdown",
   "id": "7cbac6fd",
   "metadata": {},
   "source": [
    "# Order of Precedence\n",
    "**Operators Description**\n",
    "> 1. ** (Exponentiation (raise to the power))\n",
    "> 2. ~ ,+, - (Complement, unary plus and unary minus)\n",
    "> 3. * ,/, %, // (Multiply, divide, modulo and floor division)\n",
    "> 4. +, - (Addition and subtraction)\n",
    "> 5. <= , < , > , >=, == , != (Relational and Comparison operators)\n",
    "> 6. =, %=, /=, //=, -=, +=, *=, ** (Assignment operators)\n",
    "> 7. is, is not (Identity operators)\n",
    "> 8. in, not in (Membership operators)\n",
    "> 9. not (Logical operators)\n",
    "> 10. and (Logical operators)\n",
    "> 11. or (Logical operators)\n",
    "\n",
    "\n",
    "**Note:**\n",
    "> a) Parenthesis can be used to override the precedence of\n",
    "operators. The expression within () is evaluated first.\n",
    "> b) For operators with equal precedence, the expression is\n",
    "evaluated from left to right."
   ]
  },
  {
   "cell_type": "markdown",
   "id": "24e7e569",
   "metadata": {},
   "source": [
    "# Input and Output\n",
    "\n",
    "The user may enter a number or a string but the input() function treats\n",
    "them as strings only. The syntax for input() is:\n",
    ">> input ([Prompt])"
   ]
  },
  {
   "cell_type": "code",
   "execution_count": 108,
   "id": "da394507",
   "metadata": {},
   "outputs": [
    {
     "name": "stdout",
     "output_type": "stream",
     "text": [
      "Enter your name:John Doe\n",
      "name is  John Doe\n"
     ]
    }
   ],
   "source": [
    "name = input(\"Enter your name:\")\n",
    "print(\"name is \", name)"
   ]
  },
  {
   "cell_type": "markdown",
   "id": "ef64b477",
   "metadata": {},
   "source": [
    "# Type Conversion \n",
    "\n",
    "**Explicit type conversion functions in Python**\n",
    "> 1. int(x)  Converts x to an integer\n",
    "> 2. float(x) Converts x to a floating-point number\n",
    "> 3. str(x) Converts x to a string representation\n",
    "> 4. chr(x) Converts ASCII value of x to character\n",
    "> 5. ord(x) returns the character associated with the ASCII code x\n",
    "\n",
    "***Implicit Conversion*** <br>\n",
    "Implicit conversion, also known as coercion, happens when data type conversion is done automatically by Python and is not instructed by the programmer.\n",
    "**Program to show implicit conversion from int to float.** <br>\n",
    ">>Implicit type conversion from int to float <br>\n",
    ">>num1 = 10 #num1 is an integer<br>\n",
    ">>num2 = 20.0 #num2 is a float<br>\n",
    ">>sum1 = num1 + num2 #sum1 is sum of a float and an integer<br>\n",
    ">>print(sum1)<br>\n",
    ">>print(type(sum1))<br>"
   ]
  },
  {
   "cell_type": "code",
   "execution_count": 109,
   "id": "0c6f246e",
   "metadata": {},
   "outputs": [
    {
     "name": "stdout",
     "output_type": "stream",
     "text": [
      "Enter value of numeric type var1=34\n",
      "Enter value of non numeric type var2=a\n",
      "int(x) of var1=  34\n",
      "float(x) of var1=  34.0\n",
      "str(x) of var2 a\n",
      "chr(x) of var1 \"\n",
      "ord(x) of var2 97\n"
     ]
    }
   ],
   "source": [
    "var1 = input(\"Enter value of numeric type var1=\")\n",
    "var2 = input(\"Enter value of non numeric type var2=\")\n",
    "var1=int(var1)\n",
    "print(\"int(x) of var1= \", int(var1))\n",
    "print(\"float(x) of var1= \", float(var1))\n",
    "print(\"str(x) of var2\", str(var2))\n",
    "print(\"chr(x) of var1\", chr(var1))\n",
    "print(\"ord(x) of var2\", ord(var2))"
   ]
  }
 ],
 "metadata": {
  "kernelspec": {
   "display_name": "Python 3 (ipykernel)",
   "language": "python",
   "name": "python3"
  },
  "language_info": {
   "codemirror_mode": {
    "name": "ipython",
    "version": 3
   },
   "file_extension": ".py",
   "mimetype": "text/x-python",
   "name": "python",
   "nbconvert_exporter": "python",
   "pygments_lexer": "ipython3",
   "version": "3.9.7"
  }
 },
 "nbformat": 4,
 "nbformat_minor": 5
}
