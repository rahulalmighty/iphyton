{
 "cells": [
  {
   "cell_type": "code",
   "execution_count": 1,
   "id": "a419acb4",
   "metadata": {},
   "outputs": [],
   "source": [
    "#initailization of Notebook \n",
    "lb=80*'-'"
   ]
  },
  {
   "cell_type": "markdown",
   "id": "c607caa3",
   "metadata": {},
   "source": [
    "# Selection (if , elif)\n",
    "\n",
    "**The syntax for a selection structure using elif is as shown below.** <br>\n",
    "\n",
    "\n",
    "if condition: <br>\n",
    ">   statement(s)  <br>\n",
    "\n",
    "elif condition: <br>\n",
    ">   statement(s)  <br>\n",
    "\n",
    "elif condition:  <br>\n",
    ">   statement(s)  <br>\n",
    "\n",
    "else: <br>\n",
    ">   statement(s) <br>"
   ]
  },
  {
   "cell_type": "code",
   "execution_count": null,
   "id": "bf7ff052",
   "metadata": {},
   "outputs": [],
   "source": [
    "#Program to validate voting age\n",
    "\n",
    "print(lb)\n",
    "\n",
    "age = int(input(\"Enter your age: \"))\n",
    "\n",
    "if age >= 18 and age <=110:\n",
    " print(\"***Eligible to vote***\")\n",
    "elif age>110:\n",
    " print(\"***Age is not correct, please check with Polling Officer***\")\n",
    "else: \n",
    " print(\"***Illegible for voting***\")  \n",
    "\n",
    "print(lb)"
   ]
  },
  {
   "cell_type": "code",
   "execution_count": null,
   "id": "2871c245",
   "metadata": {},
   "outputs": [],
   "source": [
    "age = int(input(\"Enter your age: \"))"
   ]
  },
  {
   "cell_type": "code",
   "execution_count": null,
   "id": "6decf19e",
   "metadata": {},
   "outputs": [],
   "source": []
  }
 ],
 "metadata": {
  "kernelspec": {
   "display_name": "Python 3 (ipykernel)",
   "language": "python",
   "name": "python3"
  },
  "language_info": {
   "codemirror_mode": {
    "name": "ipython",
    "version": 3
   },
   "file_extension": ".py",
   "mimetype": "text/x-python",
   "name": "python",
   "nbconvert_exporter": "python",
   "pygments_lexer": "ipython3",
   "version": "3.9.7"
  }
 },
 "nbformat": 4,
 "nbformat_minor": 5
}
