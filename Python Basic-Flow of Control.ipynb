{
 "cells": [
  {
   "cell_type": "code",
   "execution_count": 1,
   "id": "504ddb67",
   "metadata": {},
   "outputs": [],
   "source": [
    "#initailization of Notebook \n",
    "lb=80*'-'"
   ]
  },
  {
   "cell_type": "markdown",
   "id": "f5116fed",
   "metadata": {},
   "source": [
    "# Selection (if , elif)\n",
    "\n",
    "**The syntax for a selection structure using elif is as shown below.** <br>\n",
    "\n",
    "\n",
    "if condition: <br>\n",
    ">   statement(s)  <br>\n",
    "\n",
    "elif condition: <br>\n",
    ">   statement(s)  <br>\n",
    "\n",
    "elif condition:  <br>\n",
    ">   statement(s)  <br>\n",
    "\n",
    "else: <br>\n",
    ">   statement(s) <br>"
   ]
  },
  {
   "cell_type": "code",
   "execution_count": 2,
   "id": "ddcab7c9",
   "metadata": {},
   "outputs": [
    {
     "name": "stdout",
     "output_type": "stream",
     "text": [
      "Enter your age: 45\n",
      "Age entered= 45\n",
      "***Eligible to vote***\n"
     ]
    }
   ],
   "source": [
    "#Program to validate voting age\n",
    "age1=90\n",
    "age1 = int(input(\"Enter your age: \"))\n",
    "\n",
    "print(\"Age entered=\",age1)\n",
    "\n",
    "if age1 >= 18 and age1 <=110:\n",
    " print(\"***Eligible to vote***\")\n",
    "elif age1>110:\n",
    " print(\"***Age is not correct, please check with Polling Officer***\")\n",
    "else: \n",
    " print(\"***Illegible for voting***\")  "
   ]
  },
  {
   "cell_type": "markdown",
   "id": "ab196ca1",
   "metadata": {},
   "source": [
    "# Repetition\n",
    "\n",
    "## For Loop \n",
    "\n",
    "**for \"control-variable\" in \"sequence/items in range\":** <br>\n",
    "> \"statements inside body of the loop\"\n",
    "    \n",
    "    "
   ]
  },
  {
   "cell_type": "code",
   "execution_count": 3,
   "id": "b3d43c22",
   "metadata": {},
   "outputs": [
    {
     "name": "stdout",
     "output_type": "stream",
     "text": [
      "P\n",
      "y\n",
      "t\n",
      "h\n",
      "o\n",
      "n\n"
     ]
    }
   ],
   "source": [
    "for letter in 'Python':\n",
    "    print(letter)"
   ]
  },
  {
   "cell_type": "code",
   "execution_count": 4,
   "id": "c5ed2480",
   "metadata": {},
   "outputs": [
    {
     "name": "stdout",
     "output_type": "stream",
     "text": [
      "23\n",
      "45\n",
      "67\n",
      "89\n",
      "12\n"
     ]
    }
   ],
   "source": [
    "list1=[23,45,67,89,12]\n",
    "\n",
    "for num in list1:\n",
    "    print(num)\n",
    "    "
   ]
  },
  {
   "cell_type": "code",
   "execution_count": 5,
   "id": "a490e461",
   "metadata": {},
   "outputs": [
    {
     "name": "stdout",
     "output_type": "stream",
     "text": [
      "77 is an odd number\n",
      "34 is a even number\n",
      "45 is an odd number\n",
      "2 is a even number\n",
      "1 is an odd number\n",
      "3 is an odd number\n",
      "56 is a even number\n",
      "78 is a even number\n",
      "99 is an odd number\n",
      "11 is an odd number\n",
      "15 is an odd number\n",
      "17 is an odd number\n"
     ]
    }
   ],
   "source": [
    "list2=[77,34,45,2,1,3,56,78,99,11,15,17]\n",
    "\n",
    "for num in list2:\n",
    "    if (num % 2) == 0:\n",
    "        print(num, \"is a even number\")\n",
    "    else:\n",
    "        print(num, \"is an odd number\")\n",
    "        \n",
    "        "
   ]
  },
  {
   "cell_type": "markdown",
   "id": "b25fad45",
   "metadata": {},
   "source": [
    "### The Range() Function\n",
    "The range() is a built-in function in Python. Syntax of\n",
    "range() function is: <br>\n",
    "\n",
    ">> **range([start], stop[, step])** <br>\n",
    "\n",
    "It is used to create a list containing a sequence of\n",
    "integers from the given start value upto stop value\n",
    "(excluding stop value), with a difference of the given\n",
    "step value. We will learn about functions in the next\n",
    "chapter. To begin with, simply remember that function\n",
    "takes parameters to work on. In function range(), start,\n",
    "stop and step are parameters.\n",
    "The start and step parameters are optional. If start\n",
    "value is not specified, by default the list starts from 0. If\n",
    "step is also not specified, by default the value increases\n",
    "by 1 in each iteration. All parameters of range() function\n",
    "must be integers. The step parameter can be a positive\n",
    "or a negative integer excluding zero."
   ]
  },
  {
   "cell_type": "code",
   "execution_count": 6,
   "id": "2f97f18d",
   "metadata": {},
   "outputs": [
    {
     "data": {
      "text/plain": [
       "[0, 1, 2, 3, 4, 5, 6, 7, 8, 9]"
      ]
     },
     "execution_count": 6,
     "metadata": {},
     "output_type": "execute_result"
    }
   ],
   "source": [
    "list(range(10))"
   ]
  },
  {
   "cell_type": "code",
   "execution_count": 7,
   "id": "cd43cb2d",
   "metadata": {},
   "outputs": [
    {
     "data": {
      "text/plain": [
       "[2, 4, 6, 8]"
      ]
     },
     "execution_count": 7,
     "metadata": {},
     "output_type": "execute_result"
    }
   ],
   "source": [
    "list(range(2,10,2))"
   ]
  },
  {
   "cell_type": "code",
   "execution_count": 8,
   "id": "0f9334e4",
   "metadata": {},
   "outputs": [
    {
     "data": {
      "text/plain": [
       "[9, 8, 7, 6, 5, 4, 3, 2, 1, 0, -1, -2, -3, -4, -5, -6, -7, -8]"
      ]
     },
     "execution_count": 8,
     "metadata": {},
     "output_type": "execute_result"
    }
   ],
   "source": [
    "list(range(9,-9,-1))"
   ]
  },
  {
   "cell_type": "code",
   "execution_count": 9,
   "id": "3802732b",
   "metadata": {},
   "outputs": [
    {
     "name": "stdout",
     "output_type": "stream",
     "text": [
      "number= 0\n",
      "number= 1\n",
      "number= 2\n",
      "number= 3\n",
      "number= 4\n"
     ]
    }
   ],
   "source": [
    "for num in range(5):\n",
    "    print(\"number=\",num)\n",
    "    "
   ]
  },
  {
   "cell_type": "code",
   "execution_count": 10,
   "id": "34353117",
   "metadata": {},
   "outputs": [
    {
     "name": "stdout",
     "output_type": "stream",
     "text": [
      "number= 5\n",
      "number= 4\n",
      "number= 3\n",
      "number= 2\n",
      "number= 1\n",
      "number= 0\n",
      "number= -1\n",
      "number= -2\n",
      "number= -3\n",
      "number= -4\n"
     ]
    }
   ],
   "source": [
    "for num in range(5,-5,-1):\n",
    "    print(\"number=\",num)"
   ]
  },
  {
   "cell_type": "markdown",
   "id": "3fb38f8b",
   "metadata": {},
   "source": [
    "## The ‘While’ Loop\n",
    "\n",
    "**Syntax of while Loop** <br>\n",
    "\n",
    "while test_condition: <br>\n",
    "> body of while"
   ]
  },
  {
   "cell_type": "code",
   "execution_count": 11,
   "id": "078105bf",
   "metadata": {},
   "outputs": [
    {
     "name": "stdout",
     "output_type": "stream",
     "text": [
      "number is  5\n",
      "number is  4\n",
      "number is  3\n",
      "number is  2\n",
      "number is  1\n"
     ]
    }
   ],
   "source": [
    "num = 5\n",
    "while num>0:\n",
    "    print(\"number is \",num)\n",
    "    num-=1"
   ]
  },
  {
   "cell_type": "markdown",
   "id": "c211fc2a",
   "metadata": {},
   "source": [
    "### Break Statement\n",
    "\n",
    "**break** \n",
    "\n",
    "The break statement alters the normal flow of execution as it terminates the current loop and resumes execution of the statement following that loop."
   ]
  },
  {
   "cell_type": "code",
   "execution_count": 12,
   "id": "217c27e7",
   "metadata": {},
   "outputs": [
    {
     "name": "stdout",
     "output_type": "stream",
     "text": [
      "number is  5\n",
      "number is  4\n"
     ]
    }
   ],
   "source": [
    "num=5\n",
    "while num>0:\n",
    "    print(\"number is \",num)\n",
    "    num-=1\n",
    "    if num==3:\n",
    "        break"
   ]
  },
  {
   "cell_type": "markdown",
   "id": "3ad91da1",
   "metadata": {},
   "source": [
    "## Continue Statement\n",
    "\n",
    "**continue\n",
    "\n",
    "When a continue statement is encountered, the control skips the execution of remaining statements inside the body of the loop for thecurrent iteration and jumps\n",
    "to the beginning of the loop for the next iteration. If the loop’s condition is still true,\n",
    "the loop is entered again, else the control is transferred to the statement immediately following the loop."
   ]
  },
  {
   "cell_type": "code",
   "execution_count": 16,
   "id": "350df405",
   "metadata": {},
   "outputs": [
    {
     "name": "stdout",
     "output_type": "stream",
     "text": [
      "--------------------------------------------------------------------------------\n",
      "num value while entering loop: 5\n",
      "print of number is  5\n",
      "--------------------------------------------------------------------------------\n",
      "--------------------------------------------------------------------------------\n",
      "num value while entering loop: 4\n",
      "print of number is  4\n",
      "--------------------------------------------------------------------------------\n",
      "--------------------------------------------------------------------------------\n",
      "num value while entering loop: 3\n",
      "--------------------------------------------------------------------------------\n",
      "num value while entering loop: 2\n",
      "print of number is  2\n",
      "--------------------------------------------------------------------------------\n",
      "--------------------------------------------------------------------------------\n",
      "num value while entering loop: 1\n",
      "print of number is  1\n",
      "--------------------------------------------------------------------------------\n"
     ]
    }
   ],
   "source": [
    "num=5\n",
    "while num>0:\n",
    "    print(lb)\n",
    "    print(\"num value while entering loop:\", num)\n",
    "    if num==3:\n",
    "        num=num-1\n",
    "        continue\n",
    "    else:\n",
    "        print(\"print of number is \", num)\n",
    "        num=num-1\n",
    "    print(lb)"
   ]
  },
  {
   "cell_type": "code",
   "execution_count": 17,
   "id": "8b70479c",
   "metadata": {},
   "outputs": [
    {
     "name": "stdout",
     "output_type": "stream",
     "text": [
      "\n",
      "*\n",
      "**\n",
      "***\n",
      "****\n"
     ]
    }
   ],
   "source": [
    "for n in range(5):\n",
    "    a=n*\"*\"\n",
    "    print(a)"
   ]
  },
  {
   "cell_type": "code",
   "execution_count": 19,
   "id": "842bec51",
   "metadata": {},
   "outputs": [
    {
     "name": "stdout",
     "output_type": "stream",
     "text": [
      "*****\n",
      "****\n",
      "***\n",
      "**\n",
      "*\n"
     ]
    }
   ],
   "source": [
    "for n in range(5,0,-1):\n",
    "    a=n*\"*\"\n",
    "    print(a)"
   ]
  },
  {
   "cell_type": "code",
   "execution_count": null,
   "id": "7f8336df",
   "metadata": {},
   "outputs": [],
   "source": [
    " "
   ]
  }
 ],
 "metadata": {
  "kernelspec": {
   "display_name": "Python 3 (ipykernel)",
   "language": "python",
   "name": "python3"
  },
  "language_info": {
   "codemirror_mode": {
    "name": "ipython",
    "version": 3
   },
   "file_extension": ".py",
   "mimetype": "text/x-python",
   "name": "python",
   "nbconvert_exporter": "python",
   "pygments_lexer": "ipython3",
   "version": "3.9.7"
  }
 },
 "nbformat": 4,
 "nbformat_minor": 5
}
